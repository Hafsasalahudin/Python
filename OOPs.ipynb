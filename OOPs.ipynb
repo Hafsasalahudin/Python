{
  "nbformat": 4,
  "nbformat_minor": 0,
  "metadata": {
    "colab": {
      "provenance": [],
      "authorship_tag": "ABX9TyOX9h78IGKelnp7VzEdi1AG",
      "include_colab_link": true
    },
    "kernelspec": {
      "name": "python3",
      "display_name": "Python 3"
    },
    "language_info": {
      "name": "python"
    }
  },
  "cells": [
    {
      "cell_type": "markdown",
      "metadata": {
        "id": "view-in-github",
        "colab_type": "text"
      },
      "source": [
        "<a href=\"https://colab.research.google.com/github/Hafsasalahudin/Python/blob/main/OOPs.ipynb\" target=\"_parent\"><img src=\"https://colab.research.google.com/assets/colab-badge.svg\" alt=\"Open In Colab\"/></a>"
      ]
    },
    {
      "cell_type": "markdown",
      "source": [
        "#**Classes & Objects**\n",
        "\n",
        "\n",
        "- A Class is an object constructor or a \"blueprint\" for creating objects.\n",
        "Objects are nothing but an encapsulation of variables and functions into a single entity.\n",
        "\n",
        "- Objects get their variables and functions from classes.\n",
        "- To create a class we use the keyword class.\n",
        "- The first string inside the class is called docstring which gives the brief description about the class.\n",
        "- All classes have a function called which is always executed when the class is being initiated.\n",
        "- We can use function to assign values to object properties or other operations that are necessary to perform when the object is being created\n",
        "- The self parameter is a reference to the current instance of the class and is used to access class variables.\n",
        "- self must be the first parameter of any function in the class\n",
        "- The super() builtin function returns a temporary object of the superclass that allows us to access methods of the base class.\n",
        "super() allows us to avoid using the base class name explicitly and to enable multiple inheritance."
      ],
      "metadata": {
        "id": "EXqmHdVaN5Tu"
      }
    }
  ]
}