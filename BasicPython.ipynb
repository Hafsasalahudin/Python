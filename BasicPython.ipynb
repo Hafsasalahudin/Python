{
  "nbformat": 4,
  "nbformat_minor": 0,
  "metadata": {
    "colab": {
      "provenance": [],
      "authorship_tag": "ABX9TyON5bpiniGfG/QNPF1xzzHM",
      "include_colab_link": true
    },
    "kernelspec": {
      "name": "python3",
      "display_name": "Python 3"
    },
    "language_info": {
      "name": "python"
    }
  },
  "cells": [
    {
      "cell_type": "markdown",
      "metadata": {
        "id": "view-in-github",
        "colab_type": "text"
      },
      "source": [
        "<a href=\"https://colab.research.google.com/github/Hafsasalahudin/Python/blob/main/BasicPython.ipynb\" target=\"_parent\"><img src=\"https://colab.research.google.com/assets/colab-badge.svg\" alt=\"Open In Colab\"/></a>"
      ]
    },
    {
      "cell_type": "code",
      "execution_count": null,
      "metadata": {
        "id": "fHp0r9_TLqiF",
        "outputId": "45c5078f-6244-40ea-ef1e-b52780760e0a",
        "colab": {
          "base_uri": "https://localhost:8080/"
        }
      },
      "outputs": [
        {
          "output_type": "stream",
          "name": "stdout",
          "text": [
            "Apple\n",
            "20\n",
            "10.3\n"
          ]
        }
      ],
      "source": [
        "x , y , z = \"Apple\" , 20 , 10.3\n",
        "print(x)\n",
        "print(y)\n",
        "print(z)"
      ]
    },
    {
      "cell_type": "code",
      "source": [
        "def function_name(parameter):\n",
        "  block of code\n",
        "  retun\n",
        "  function call(argument)"
      ],
      "metadata": {
        "id": "4THbUQshPPMG"
      },
      "execution_count": null,
      "outputs": []
    },
    {
      "cell_type": "code",
      "source": [
        "def myfunc():\n",
        "  print(\"Hello python\")\n",
        "myfunc()"
      ],
      "metadata": {
        "id": "Qc8_eHJdiGzm",
        "outputId": "12359b5f-9f4b-42ad-d1d8-0187a8fbef01",
        "colab": {
          "base_uri": "https://localhost:8080/"
        }
      },
      "execution_count": 1,
      "outputs": [
        {
          "output_type": "stream",
          "name": "stdout",
          "text": [
            "Hello python\n"
          ]
        }
      ]
    },
    {
      "cell_type": "code",
      "source": [
        "def myfunc(name):\n",
        "  print(name)\n",
        "myfunc(\"hafsa\")"
      ],
      "metadata": {
        "id": "5W6qgGW4kuyE",
        "outputId": "af6c4f3d-dcf0-473c-c935-40efdc4d3ece",
        "colab": {
          "base_uri": "https://localhost:8080/"
        }
      },
      "execution_count": 3,
      "outputs": [
        {
          "output_type": "stream",
          "name": "stdout",
          "text": [
            "hafsa\n"
          ]
        }
      ]
    },
    {
      "cell_type": "code",
      "source": [
        "x=\"Hafsa\"\n",
        "print(x)"
      ],
      "metadata": {
        "id": "LnOWFxNClTMV",
        "outputId": "ed4d48b2-e356-4722-e739-877fb8ec4afd",
        "colab": {
          "base_uri": "https://localhost:8080/"
        }
      },
      "execution_count": 4,
      "outputs": [
        {
          "output_type": "stream",
          "name": "stdout",
          "text": [
            "Hafsa\n"
          ]
        }
      ]
    },
    {
      "cell_type": "code",
      "source": [
        "def details(name,userid,country):\n",
        "  print(\"Name:\",name)\n",
        "  print(\"userid:\",userid)\n",
        "  print(\"country:\",country)\n",
        "details(\"SALAR\",33,\"japan\")\n"
      ],
      "metadata": {
        "id": "rGX1LG2jljTz",
        "outputId": "038a7c57-7572-4612-d4d2-f251425aacd8",
        "colab": {
          "base_uri": "https://localhost:8080/"
        }
      },
      "execution_count": 6,
      "outputs": [
        {
          "output_type": "stream",
          "name": "stdout",
          "text": [
            "Name: SALAR\n",
            "userid: 33\n",
            "country: japan\n"
          ]
        }
      ]
    },
    {
      "cell_type": "code",
      "source": [
        "def square (n): #function to find square of a number\n",
        "    n= n*n\n",
        "    return n\n",
        "\n",
        "square (10)"
      ],
      "metadata": {
        "id": "xL-xgSzEnIvW",
        "outputId": "1ced473d-e08a-45e7-ed3e-ad54ab9ec91f",
        "colab": {
          "base_uri": "https://localhost:8080/"
        }
      },
      "execution_count": 15,
      "outputs": [
        {
          "output_type": "execute_result",
          "data": {
            "text/plain": [
              "1000"
            ]
          },
          "metadata": {},
          "execution_count": 15
        }
      ]
    },
    {
      "cell_type": "code",
      "source": [
        "def even_odd(num):\n",
        "  \"\"\" This function will check whether a number is even or odd\"\"\"\n",
        "  if num % 2==0:\n",
        "    print ( num, \"is even number\")\n",
        "  else:\n",
        "    print(num,\"is odd number\")\n",
        "even_odd(3)\n",
        "even_odd(4)\n",
        "print(even_odd.__doc__)"
      ],
      "metadata": {
        "id": "JMeH0QsqoWKn",
        "outputId": "f3714e99-79a5-4c19-d0ee-8abc97c7f91b",
        "colab": {
          "base_uri": "https://localhost:8080/"
        }
      },
      "execution_count": 19,
      "outputs": [
        {
          "output_type": "stream",
          "name": "stdout",
          "text": [
            "3 is odd number\n",
            "4 is even number\n",
            " This function will check whether a number is even or odd\n"
          ]
        }
      ]
    }
  ]
}