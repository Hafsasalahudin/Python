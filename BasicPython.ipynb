{
  "nbformat": 4,
  "nbformat_minor": 0,
  "metadata": {
    "colab": {
      "provenance": [],
      "authorship_tag": "ABX9TyN2j5biNI5Ky09mEEgQbZME",
      "include_colab_link": true
    },
    "kernelspec": {
      "name": "python3",
      "display_name": "Python 3"
    },
    "language_info": {
      "name": "python"
    }
  },
  "cells": [
    {
      "cell_type": "markdown",
      "metadata": {
        "id": "view-in-github",
        "colab_type": "text"
      },
      "source": [
        "<a href=\"https://colab.research.google.com/github/Hafsasalahudin/Python/blob/main/BasicPython.ipynb\" target=\"_parent\"><img src=\"https://colab.research.google.com/assets/colab-badge.svg\" alt=\"Open In Colab\"/></a>"
      ]
    },
    {
      "cell_type": "code",
      "execution_count": null,
      "metadata": {
        "id": "fHp0r9_TLqiF"
      },
      "outputs": [],
      "source": [
        "x , y , z = \"Apple\" , 20 , 10.3\n",
        "print(x)\n",
        "print(y)\n",
        "print(z)"
      ]
    },
    {
      "cell_type": "code",
      "source": [
        "def function_name(parameter):\n",
        "  block of code\n",
        "  retun\n",
        "  function call(argument)"
      ],
      "metadata": {
        "id": "4THbUQshPPMG"
      },
      "execution_count": null,
      "outputs": []
    },
    {
      "cell_type": "code",
      "source": [
        "def myfunc():\n",
        "  print(\"Hello python\")\n",
        "myfunc()"
      ],
      "metadata": {
        "id": "Qc8_eHJdiGzm"
      },
      "execution_count": null,
      "outputs": []
    },
    {
      "cell_type": "code",
      "source": [
        "def myfunc(name):\n",
        "  print(name)\n",
        "myfunc(\"hafsa\")"
      ],
      "metadata": {
        "id": "5W6qgGW4kuyE"
      },
      "execution_count": null,
      "outputs": []
    },
    {
      "cell_type": "code",
      "source": [
        "x=\"Hafsa\"\n",
        "print(x)"
      ],
      "metadata": {
        "id": "LnOWFxNClTMV"
      },
      "execution_count": null,
      "outputs": []
    },
    {
      "cell_type": "code",
      "source": [
        "def details(name,userid,country):\n",
        "  print(\"Name:\",name)\n",
        "  print(\"userid:\",userid)\n",
        "  print(\"country:\",country)\n",
        "details(\"SALAR\",33,\"japan\")\n"
      ],
      "metadata": {
        "id": "rGX1LG2jljTz"
      },
      "execution_count": null,
      "outputs": []
    },
    {
      "cell_type": "code",
      "source": [
        "def square (n): #function to find square of a number\n",
        "    n= n*n\n",
        "    return n\n",
        "\n",
        "square (10)"
      ],
      "metadata": {
        "id": "xL-xgSzEnIvW"
      },
      "execution_count": null,
      "outputs": []
    },
    {
      "cell_type": "code",
      "source": [
        "def even_odd(num):\n",
        "  \"\"\" This function will check whether a number is even or odd\"\"\"\n",
        "  if num % 2==0:\n",
        "    print ( num, \"is even number\")\n",
        "  else:\n",
        "    print(num,\"is odd number\")\n",
        "even_odd(3)\n",
        "even_odd(4)\n",
        "print(even_odd.__doc__)"
      ],
      "metadata": {
        "id": "JMeH0QsqoWKn"
      },
      "execution_count": null,
      "outputs": []
    },
    {
      "cell_type": "code",
      "source": [
        "def swap(a,b):\n",
        "    temp=a\n",
        "    a,b=b,temp\n",
        "a=10\n",
        "b=20\n",
        "print(a,b)\n",
        "a,b\n",
        "\n"
      ],
      "metadata": {
        "id": "CmKmyh16kVxC"
      },
      "execution_count": null,
      "outputs": []
    },
    {
      "cell_type": "code",
      "source": [
        "x=10\n",
        "y=20\n",
        "x,y=y,x\n",
        "print(x,y)"
      ],
      "metadata": {
        "id": "J3T5sLo0mZ-Z"
      },
      "execution_count": null,
      "outputs": []
    },
    {
      "cell_type": "code",
      "source": [
        "def factorial(num): # Calculate factorial of a number using recursive function c\n",
        " if num <=1 :\n",
        "  return 1\n",
        " else:\n",
        "   return num * factorial(num-1)\n",
        "factorial(4)"
      ],
      "metadata": {
        "id": "-pprX3aqpH9m"
      },
      "execution_count": null,
      "outputs": []
    },
    {
      "cell_type": "markdown",
      "source": [
        "# swmming natural numbers"
      ],
      "metadata": {
        "id": "WsSWY6-CwMr3"
      }
    },
    {
      "cell_type": "code",
      "source": [
        "def add(num):\n",
        "    if num == 0:\n",
        "      return 0\n",
        "    else:\n",
        "         return num + add(num-1)\n",
        "add(5)"
      ],
      "metadata": {
        "id": "Ajd2FhONp020"
      },
      "execution_count": null,
      "outputs": []
    },
    {
      "cell_type": "code",
      "source": [
        "def italian_fery_series(num):\n",
        "     if num <=1:\n",
        "      return num\n",
        "     if num ==2:\n",
        "      return 1\n",
        "     else:\n",
        "      return fibaocci(num-1) + fibaocci(num-2)\n",
        "\n",
        "nums = int(input(\"How many fibonacci numbers you want to generate -\"))\n",
        "\n",
        "for i in range(nums):\n",
        "  print(fibaocci(i))"
      ],
      "metadata": {
        "id": "7_0znKNfwJCW"
      },
      "execution_count": null,
      "outputs": []
    },
    {
      "cell_type": "code",
      "source": [
        "#break statement we use to stop the loop\n",
        "i=1\n",
        "while i<6:\n",
        "  if i==3:\n",
        "    break\n",
        "  print(i)\n",
        "  i+=1\n"
      ],
      "metadata": {
        "id": "XFPcLofDGX8W"
      },
      "execution_count": null,
      "outputs": []
    },
    {
      "cell_type": "code",
      "source": [],
      "metadata": {
        "id": "LMKHu85Kxyn1"
      },
      "execution_count": null,
      "outputs": []
    },
    {
      "cell_type": "code",
      "source": [
        "#continue is used to skip the current loop iteration and move to next itreation\n",
        "i=0\n",
        "while i<=6:\n",
        "  i+=1\n",
        "  if i==2:\n",
        "    continue\n",
        "  print(i)"
      ],
      "metadata": {
        "id": "OKMufcibFqpY"
      },
      "execution_count": null,
      "outputs": []
    },
    {
      "cell_type": "code",
      "source": [
        "def my_function(*kids):\n",
        "  print(\"The youngest child is \" ,kids[0])\n",
        "\n",
        "my_function(\"Emil\", \"Tobias\", \"Linus\")\n"
      ],
      "metadata": {
        "id": "-MHE0lk2XirL"
      },
      "execution_count": null,
      "outputs": []
    }
  ]
}